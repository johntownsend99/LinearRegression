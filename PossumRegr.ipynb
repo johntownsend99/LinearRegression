{
 "cells": [
  {
   "cell_type": "markdown",
   "id": "efe19e34",
   "metadata": {},
   "source": [
    "## Overview\n",
    "\n",
    "Using the [Possum Regression Dataset](https://www.kaggle.com/datasets/abrambeyer/openintro-possum), create a linear regression model to predict a possum's head length based on its total body length."
   ]
  },
  {
   "cell_type": "code",
   "execution_count": 54,
   "id": "d850032e",
   "metadata": {},
   "outputs": [],
   "source": [
    "# import libraries\n",
    "import pandas as pd\n",
    "import numpy as np\n",
    "import seaborn as sns\n",
    "from sklearn import preprocessing, svm\n",
    "from sklearn.model_selection import train_test_split\n",
    "from sklearn.linear_model import LinearRegression\n",
    "import matplotlib.pyplot as plt\n",
    "from sklearn.metrics import mean_absolute_error"
   ]
  },
  {
   "cell_type": "code",
   "execution_count": 21,
   "id": "c56cef0a",
   "metadata": {},
   "outputs": [
    {
     "name": "stdout",
     "output_type": "stream",
     "text": [
      "<class 'pandas.core.frame.DataFrame'>\n",
      "RangeIndex: 104 entries, 0 to 103\n",
      "Data columns (total 14 columns):\n",
      " #   Column    Non-Null Count  Dtype  \n",
      "---  ------    --------------  -----  \n",
      " 0   case      104 non-null    int64  \n",
      " 1   site      104 non-null    int64  \n",
      " 2   Pop       104 non-null    object \n",
      " 3   sex       104 non-null    object \n",
      " 4   age       102 non-null    float64\n",
      " 5   hdlngth   104 non-null    float64\n",
      " 6   skullw    104 non-null    float64\n",
      " 7   totlngth  104 non-null    float64\n",
      " 8   taill     104 non-null    float64\n",
      " 9   footlgth  103 non-null    float64\n",
      " 10  earconch  104 non-null    float64\n",
      " 11  eye       104 non-null    float64\n",
      " 12  chest     104 non-null    float64\n",
      " 13  belly     104 non-null    float64\n",
      "dtypes: float64(10), int64(2), object(2)\n",
      "memory usage: 11.5+ KB\n",
      "\n",
      " first 5 records:\n",
      "    case  site  Pop sex  age  hdlngth  skullw  totlngth  taill  footlgth  \\\n",
      "0     1     1  Vic   m  8.0     94.1    60.4      89.0   36.0      74.5   \n",
      "1     2     1  Vic   f  6.0     92.5    57.6      91.5   36.5      72.5   \n",
      "2     3     1  Vic   f  6.0     94.0    60.0      95.5   39.0      75.4   \n",
      "3     4     1  Vic   f  6.0     93.2    57.1      92.0   38.0      76.1   \n",
      "4     5     1  Vic   f  2.0     91.5    56.3      85.5   36.0      71.0   \n",
      "\n",
      "   earconch   eye  chest  belly  \n",
      "0      54.5  15.2   28.0   36.0  \n",
      "1      51.2  16.0   28.5   33.0  \n",
      "2      51.9  15.5   30.0   34.0  \n",
      "3      52.2  15.2   28.0   34.0  \n",
      "4      53.2  15.1   28.5   33.0  \n",
      "\n",
      " shape:\n",
      " (104, 14)\n"
     ]
    }
   ],
   "source": [
    "# read in data and perform EDA\n",
    "possums = pd.read_csv('possum.csv')\n",
    "\n",
    "possums.info()\n",
    "\n",
    "print(\"\\n first 5 records:\\n\", possums.head())\n",
    "\n",
    "print(\"\\n shape:\\n\", possums.shape)\n"
   ]
  },
  {
   "cell_type": "markdown",
   "id": "e7056648",
   "metadata": {},
   "source": [
    "### Total length to predict a possum's head length"
   ]
  },
  {
   "cell_type": "code",
   "execution_count": 32,
   "id": "b1f642cb",
   "metadata": {},
   "outputs": [
    {
     "data": {
      "text/html": [
       "<div>\n",
       "<style scoped>\n",
       "    .dataframe tbody tr th:only-of-type {\n",
       "        vertical-align: middle;\n",
       "    }\n",
       "\n",
       "    .dataframe tbody tr th {\n",
       "        vertical-align: top;\n",
       "    }\n",
       "\n",
       "    .dataframe thead th {\n",
       "        text-align: right;\n",
       "    }\n",
       "</style>\n",
       "<table border=\"1\" class=\"dataframe\">\n",
       "  <thead>\n",
       "    <tr style=\"text-align: right;\">\n",
       "      <th></th>\n",
       "      <th>totlngth</th>\n",
       "      <th>hdlngth</th>\n",
       "    </tr>\n",
       "  </thead>\n",
       "  <tbody>\n",
       "    <tr>\n",
       "      <th>0</th>\n",
       "      <td>89.0</td>\n",
       "      <td>94.1</td>\n",
       "    </tr>\n",
       "    <tr>\n",
       "      <th>1</th>\n",
       "      <td>91.5</td>\n",
       "      <td>92.5</td>\n",
       "    </tr>\n",
       "    <tr>\n",
       "      <th>2</th>\n",
       "      <td>95.5</td>\n",
       "      <td>94.0</td>\n",
       "    </tr>\n",
       "    <tr>\n",
       "      <th>3</th>\n",
       "      <td>92.0</td>\n",
       "      <td>93.2</td>\n",
       "    </tr>\n",
       "    <tr>\n",
       "      <th>4</th>\n",
       "      <td>85.5</td>\n",
       "      <td>91.5</td>\n",
       "    </tr>\n",
       "  </tbody>\n",
       "</table>\n",
       "</div>"
      ],
      "text/plain": [
       "   totlngth  hdlngth\n",
       "0      89.0     94.1\n",
       "1      91.5     92.5\n",
       "2      95.5     94.0\n",
       "3      92.0     93.2\n",
       "4      85.5     91.5"
      ]
     },
     "execution_count": 32,
     "metadata": {},
     "output_type": "execute_result"
    }
   ],
   "source": [
    "# select columns\n",
    "possum_df = possums[['totlngth','hdlngth']]\n",
    "possum_df.head()"
   ]
  },
  {
   "cell_type": "code",
   "execution_count": 33,
   "id": "845207d4",
   "metadata": {},
   "outputs": [
    {
     "data": {
      "text/plain": [
       "<seaborn.axisgrid.FacetGrid at 0x24227cc7730>"
      ]
     },
     "execution_count": 33,
     "metadata": {},
     "output_type": "execute_result"
    },
    {
     "data": {
      "image/png": "[encoded data removed]",
      "text/plain": [
       "<Figure size 360x360 with 1 Axes>"
      ]
     },
     "metadata": {
      "needs_background": "light"
     },
     "output_type": "display_data"
    }
   ],
   "source": [
    "# display scatterplot with regression line to show correlation between two variables\n",
    "sns.lmplot(x='totlngth',y='hdlngth',data=possum_df)"
   ]
  },
  {
   "cell_type": "code",
   "execution_count": 36,
   "id": "7f0cf8ad",
   "metadata": {},
   "outputs": [
    {
     "name": "stdout",
     "output_type": "stream",
     "text": [
      "initial df length:\n",
      " totlngth    104\n",
      "hdlngth     104\n",
      "dtype: int64\n",
      "df length after removing null vals:\n",
      " totlngth    104\n",
      "hdlngth     104\n",
      "dtype: int64\n"
     ]
    }
   ],
   "source": [
    "# drop any row with null values \n",
    "# NOTE: it's not always the best method to drop a record where any column contains a null value, but since there is only one\n",
    "#independent and one dependent variable, the model's accuracy could be affected by any number of null values\n",
    "print(\"initial df length:\\n\", possum_df.count())\n",
    "possum_df=possum_df.dropna()\n",
    "print(\"df length after removing null vals:\\n\", possum_df.count())"
   ]
  },
  {
   "cell_type": "code",
   "execution_count": 40,
   "id": "fd11f273",
   "metadata": {},
   "outputs": [],
   "source": [
    "# select independent (X) and dependent (y) variable\n",
    "X = np.array(possum_df['totlngth']).reshape(-1,1)\n",
    "y = np.array(possum_df['hdlngth']).reshape(-1,1)"
   ]
  },
  {
   "cell_type": "code",
   "execution_count": 41,
   "id": "8a24b6f2",
   "metadata": {},
   "outputs": [],
   "source": [
    "# split the data into training and testing data\n",
    "X_train, X_test, y_train, y_test = train_test_split(X, y, test_size=0.25)"
   ]
  },
  {
   "cell_type": "markdown",
   "id": "4b045b2e",
   "metadata": {},
   "source": [
    "Why do we need to split our data into testing and training datasets?\n",
    "\n",
    "This [video](https://learn.microsoft.com/en-us/shows/dev-intro-to-data-science/why-do-you-split-data-into-testing-and-training-data-in-data-science-12-of-28) explains it. "
   ]
  },
  {
   "cell_type": "code",
   "execution_count": 45,
   "id": "31e7a745",
   "metadata": {},
   "outputs": [
    {
     "name": "stdout",
     "output_type": "stream",
     "text": [
      "0.5928\n"
     ]
    }
   ],
   "source": [
    "# initialize LinReg object\n",
    "regr = LinearRegression()\n",
    "\n",
    "# fit model \n",
    "regr.fit(X_train, y_train)\n",
    "\n",
    "# return coefficient of determination (R^2)\n",
    "print(round(regr.score(X_test,y_test), 4))"
   ]
  },
  {
   "cell_type": "code",
   "execution_count": 53,
   "id": "d7afe5ef",
   "metadata": {},
   "outputs": [
    {
     "data": {
      "image/png": "[encoded data removed]",
      "text/plain": [
       "<Figure size 432x288 with 1 Axes>"
      ]
     },
     "metadata": {
      "needs_background": "light"
     },
     "output_type": "display_data"
    }
   ],
   "source": [
    "# predict head length\n",
    "y_pred = regr.predict(X_test)\n",
    "\n",
    "#explore results\n",
    "plt.scatter(X_test, y_test, color='b')\n",
    "plt.plot(X_test,y_pred,color='k')\n",
    "plt.show()"
   ]
  },
  {
   "cell_type": "code",
   "execution_count": 56,
   "id": "b828e4bf",
   "metadata": {},
   "outputs": [
    {
     "name": "stdout",
     "output_type": "stream",
     "text": [
      "1.9258983527681415\n"
     ]
    }
   ],
   "source": [
    "# evaluate model with mean absolute error\n",
    "mae = mean_absolute_error(y_test, y_pred)\n",
    "print(mae)"
   ]
  },
  {
   "cell_type": "code",
   "execution_count": null,
   "id": "02e01686",
   "metadata": {},
   "outputs": [],
   "source": []
  }
 ],
 "metadata": {
  "kernelspec": {
   "display_name": "Python 3 (ipykernel)",
   "language": "python",
   "name": "python3"
  },
  "language_info": {
   "codemirror_mode": {
    "name": "ipython",
    "version": 3
   },
   "file_extension": ".py",
   "mimetype": "text/x-python",
   "name": "python",
   "nbconvert_exporter": "python",
   "pygments_lexer": "ipython3",
   "version": "3.9.12"
  }
 },
 "nbformat": 4,
 "nbformat_minor": 5
}
